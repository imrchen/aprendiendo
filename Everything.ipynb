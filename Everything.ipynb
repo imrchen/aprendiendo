{
  "nbformat": 4,
  "nbformat_minor": 0,
  "metadata": {
    "colab": {
      "name": "Explore Everything.ipynb",
      "provenance": [],
      "authorship_tag": "ABX9TyPPwjNmH5k9QAe0Vuse2rfI",
      "include_colab_link": true
    },
    "kernelspec": {
      "name": "python3",
      "display_name": "Python 3"
    }
  },
  "cells": [
    {
      "cell_type": "markdown",
      "metadata": {
        "id": "view-in-github",
        "colab_type": "text"
      },
      "source": [
        "<a href=\"https://colab.research.google.com/github/imrchen/sturdy-garbanzo/blob/master/Everything.ipynb\" target=\"_parent\"><img src=\"https://colab.research.google.com/assets/colab-badge.svg\" alt=\"Open In Colab\"/></a>"
      ]
    },
    {
      "cell_type": "markdown",
      "metadata": {
        "id": "blzo-vz7a-jI",
        "colab_type": "text"
      },
      "source": [
        "# Explore PyTorch"
      ]
    },
    {
      "cell_type": "code",
      "metadata": {
        "id": "eyzDsxG_k1-l",
        "colab_type": "code",
        "colab": {
          "base_uri": "https://localhost:8080/",
          "height": 56
        },
        "outputId": "a1e2ce3d-73ce-4b17-c332-74626d0b070f"
      },
      "source": [
        "import sys\n",
        "import torch, torchvision\n",
        "\n",
        "try:\n",
        "    from google.colab import drive, files\n",
        "    in_colab = True\n",
        "except ModuleNotFoundError:\n",
        "    in_colab = False\n",
        "\n",
        "if in_colab:\n",
        "    home_dir = ''\n",
        "    drive.mount('/content/drive')\n",
        "    groot_dir = '/content/drive/My Drive/'\n",
        "else:\n",
        "    from pathlib import Path\n",
        "    home_dir = str(Path.home())\n",
        "    groot_dir = home_dir + '/Google Drive/'"
      ],
      "execution_count": 11,
      "outputs": [
        {
          "output_type": "stream",
          "text": [
            "Drive already mounted at /content/drive; to attempt to forcibly remount, call drive.mount(\"/content/drive\", force_remount=True).\n"
          ],
          "name": "stdout"
        }
      ]
    },
    {
      "cell_type": "code",
      "metadata": {
        "id": "UEz_8vcB-6AD",
        "colab_type": "code",
        "colab": {}
      },
      "source": [
        "import datetime as dt\n",
        "import matplotlib.pyplot as plt\n",
        "import seaborn as sns\n",
        "from dateutil.relativedelta import *\n",
        "import torch, torchvision\n",
        "\n",
        "def display_working_env() -> None:\n",
        "    print(f'This project is running on {sys.platform}')\n",
        "    print(f'Python Version = {sys.version}')\n",
        "    print(f'PyTorch Version = {torch.__version__}')\n",
        "    print(f'TorchVision Version = {torchvision.__version__}')\n",
        "\n",
        "local_time = lambda x, offset: x + relativedelta(hours= offset)\n",
        "def local_now(hours = 8):\n",
        "    return dt.datetime.now() + relativedelta(hours = hours if in_colab else 0)\n",
        "\n",
        "def print_now():\n",
        "    return print(local_now())\n",
        "\n",
        "def DropboxLink(did, fname) -> str:\n",
        "    return 'https://dl.dropboxusercontent.com/s/%s/%s' % \\\n",
        "    (did, fname)\n",
        "    \n",
        "def ungzip(original, uncompressed):\n",
        "    with gzip.open(original, 'rb') as f_in:\n",
        "        with open(uncompressed, 'wb') as f_out:\n",
        "            shutil.copyfileobj(f_in, f_out)\n",
        "\n",
        "def fetch_file_via_requests(url, save_in_dir) -> str:\n",
        "    local_filename = url.split('/')[-1]\n",
        "    # NOTE the stream=True parameter below\n",
        "    output_fpath = save_in_dir + local_filename\n",
        "    with requests.get(url, stream=True) as r:\n",
        "        r.raise_for_status()\n",
        "        with open(output_fpath, 'wb') as f:\n",
        "            for chunk in r.iter_content(chunk_size=8192):\n",
        "                if chunk: # filter out keep-alive new chunks\n",
        "                    f.write(chunk)\n",
        "                    # f.flush()\n",
        "    return output_fpath\n",
        "\n",
        "def start_plot(figsize=(10, 8), style = 'whitegrid', dpi = 100):\n",
        "    fig = plt.figure(figsize=figsize, dpi=dpi)\n",
        "    gs = fig.add_gridspec(1,1)\n",
        "    plt.tight_layout()\n",
        "    with sns.axes_style(style):\n",
        "        ax = fig.add_subplot(gs[0,0])\n",
        "    return ax"
      ],
      "execution_count": 15,
      "outputs": []
    },
    {
      "cell_type": "code",
      "metadata": {
        "id": "bvNQrXBZ5K4h",
        "colab_type": "code",
        "colab": {
          "base_uri": "https://localhost:8080/",
          "height": 170
        },
        "outputId": "7f8c4542-f543-4f8e-dada-3adeb00adda4"
      },
      "source": [
        "display_working_env()\n",
        "print(f'Root Directory mounted at {groot_dir}')\n",
        "print('')\n",
        "print_now()"
      ],
      "execution_count": 14,
      "outputs": [
        {
          "output_type": "stream",
          "text": [
            "This project is running on linux\n",
            "Python Version = 3.6.9 (default, Jul 17 2020, 12:50:27) \n",
            "[GCC 8.4.0]\n",
            "PyTorch Version = 1.6.0+cu101\n",
            "TorchVision Version = 0.7.0+cu101\n",
            "Root Directory mounted at /content/drive/My Drive/\n",
            "\n",
            "2020-08-28 10:57:32.838516\n"
          ],
          "name": "stdout"
        }
      ]
    },
    {
      "cell_type": "markdown",
      "metadata": {
        "id": "iZWHhXqhbDq-",
        "colab_type": "text"
      },
      "source": [
        "# What is Tensor"
      ]
    },
    {
      "cell_type": "code",
      "metadata": {
        "id": "-3Erc6I4lrTq",
        "colab_type": "code",
        "colab": {
          "base_uri": "https://localhost:8080/",
          "height": 94
        },
        "outputId": "fc05c728-6bc6-447a-f97f-91de39697232"
      },
      "source": [
        "n_row, n_col = 4, 5\n",
        "x = torch.empty(n_row, n_col)\n",
        "# x = torch.rand(n_row, n_col)\n",
        "# x = torch.zeros(n_row, n_col, dtype=torch.int)\n",
        "print(x)"
      ],
      "execution_count": 8,
      "outputs": [
        {
          "output_type": "stream",
          "text": [
            "tensor([[1.0474e-35, 0.0000e+00, 7.0065e-44, 6.7262e-44, 6.3058e-44],\n",
            "        [6.7262e-44, 7.8473e-44, 6.3058e-44, 7.0065e-44, 7.8473e-44],\n",
            "        [1.1771e-43, 6.7262e-44, 7.4269e-44, 8.1275e-44, 6.8664e-44],\n",
            "        [7.1466e-44, 8.1275e-44, 6.8664e-44, 7.5670e-44, 6.4460e-44]])\n"
          ],
          "name": "stdout"
        }
      ]
    },
    {
      "cell_type": "code",
      "metadata": {
        "id": "CXXISnIVezpD",
        "colab_type": "code",
        "colab": {
          "base_uri": "https://localhost:8080/",
          "height": 74
        },
        "outputId": "cc541591-e4b4-4e7d-e873-5f55add867cb"
      },
      "source": [
        "x = x.new_ones(3, 4, dtype=torch.double, device='cuda')\n",
        "print(x)"
      ],
      "execution_count": 10,
      "outputs": [
        {
          "output_type": "stream",
          "text": [
            "tensor([[1., 1., 1., 1.],\n",
            "        [1., 1., 1., 1.],\n",
            "        [1., 1., 1., 1.]], device='cuda:0', dtype=torch.float64)\n"
          ],
          "name": "stdout"
        }
      ]
    },
    {
      "cell_type": "markdown",
      "metadata": {
        "id": "crW5hyYyfynl",
        "colab_type": "text"
      },
      "source": [
        "## cuda().is_available()\n",
        "\n",
        "- [torch.cuda](https://pytorch.org/docs/stable/cuda.html)"
      ]
    },
    {
      "cell_type": "code",
      "metadata": {
        "id": "-HUTrxPmfVii",
        "colab_type": "code",
        "colab": {
          "base_uri": "https://localhost:8080/",
          "height": 74
        },
        "outputId": "a977e990-43f3-4507-beea-37ab94849372"
      },
      "source": [
        "if torch.cuda.is_available():\n",
        "    device = torch.device('cuda')\n",
        "    y = x.to(device)\n",
        "    y = y+x\n",
        "    print(y)"
      ],
      "execution_count": 13,
      "outputs": [
        {
          "output_type": "stream",
          "text": [
            "tensor([[2., 2., 2., 2.],\n",
            "        [2., 2., 2., 2.],\n",
            "        [2., 2., 2., 2.]], device='cuda:0', dtype=torch.float64)\n"
          ],
          "name": "stdout"
        }
      ]
    },
    {
      "cell_type": "code",
      "metadata": {
        "id": "KMiP3SEceWip",
        "colab_type": "code",
        "colab": {
          "base_uri": "https://localhost:8080/",
          "height": 36
        },
        "outputId": "d89c0bba-35bc-4914-9fdf-a6024b27c070"
      },
      "source": [
        "import torch\n",
        "torch.cuda.is_available()"
      ],
      "execution_count": 23,
      "outputs": [
        {
          "output_type": "execute_result",
          "data": {
            "text/plain": [
              "False"
            ]
          },
          "metadata": {
            "tags": []
          },
          "execution_count": 23
        }
      ]
    },
    {
      "cell_type": "markdown",
      "metadata": {
        "id": "5hPUFzttf38-",
        "colab_type": "text"
      },
      "source": [
        "# Autograd"
      ]
    },
    {
      "cell_type": "code",
      "metadata": {
        "id": "BxS6MWlni4UD",
        "colab_type": "code",
        "colab": {
          "base_uri": "https://localhost:8080/",
          "height": 55
        },
        "outputId": "bfd1bf91-05d3-4065-d8a0-2c9805686fdb"
      },
      "source": [
        "x = torch.ones(2,2, requires_grad=True)\n",
        "print(x)"
      ],
      "execution_count": 26,
      "outputs": [
        {
          "output_type": "stream",
          "text": [
            "tensor([[1., 1.],\n",
            "        [1., 1.]], requires_grad=True)\n"
          ],
          "name": "stdout"
        }
      ]
    },
    {
      "cell_type": "code",
      "metadata": {
        "id": "JIa0uKfvjvSk",
        "colab_type": "code",
        "colab": {
          "base_uri": "https://localhost:8080/",
          "height": 74
        },
        "outputId": "f80050d7-3a04-4d24-818b-a09eb3333437"
      },
      "source": [
        "y = x + 2\n",
        "print(y)\n",
        "print(y.grad_fn)"
      ],
      "execution_count": 27,
      "outputs": [
        {
          "output_type": "stream",
          "text": [
            "tensor([[3., 3.],\n",
            "        [3., 3.]], grad_fn=<AddBackward0>)\n",
            "<AddBackward0 object at 0x7f9bf686cdd8>\n"
          ],
          "name": "stdout"
        }
      ]
    },
    {
      "cell_type": "code",
      "metadata": {
        "id": "oLjOUzqwjshq",
        "colab_type": "code",
        "colab": {
          "base_uri": "https://localhost:8080/",
          "height": 55
        },
        "outputId": "fa7be071-028f-44f0-aab9-c7940f9faae0"
      },
      "source": [
        "z = y * y * 3\n",
        "out = z.mean()\n",
        "print(z, out)"
      ],
      "execution_count": 28,
      "outputs": [
        {
          "output_type": "stream",
          "text": [
            "tensor([[27., 27.],\n",
            "        [27., 27.]], grad_fn=<MulBackward0>) tensor(27., grad_fn=<MeanBackward0>)\n"
          ],
          "name": "stdout"
        }
      ]
    },
    {
      "cell_type": "markdown",
      "metadata": {
        "id": "zbH-pRdsbKDc",
        "colab_type": "text"
      },
      "source": [
        "# End of File"
      ]
    }
  ]
}